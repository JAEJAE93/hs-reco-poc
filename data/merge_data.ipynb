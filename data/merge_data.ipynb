{
 "cells": [
  {
   "cell_type": "code",
   "execution_count": 5,
   "metadata": {},
   "outputs": [],
   "source": [
    "import numpy as np\n",
    "import pandas as pd\n",
    "\n",
    "pd.set_option('display.max_columns', 50)"
   ]
  },
  {
   "cell_type": "code",
   "execution_count": 6,
   "metadata": {},
   "outputs": [],
   "source": [
    "def load_data(path):\n",
    "    data = pd.read_csv(path)\n",
    "    \n",
    "    return data\n",
    "\n",
    "def prep_data(reco_group_df, prod_df, cw_df):\n",
    "    # merge data\n",
    "    merge_data = pd.merge(reco_group_df, prod_df, on=['prod_id', 'brad_date', 'ch_no', 'ch_nm'], how='left')\n",
    "    merge_data = pd.merge(merge_data, cw_df, on='cw_id', how='left')\n",
    "    \n",
    "    return merge_data\n",
    "\n",
    "def run_data_func(data_path1, data_path2, data_path3):\n",
    "    # 홈쇼핑 추천 컨테이너 필요 요소\n",
    "    # 카피라이팅, 채널번호, 채널이름, 상품 이미지, 상품제목, 상품가격\n",
    "    \n",
    "    # load data\n",
    "    reco_group_df = load_data(data_path1)\n",
    "    prod_df = load_data(data_path2)\n",
    "    cw_df = load_data(data_path3)\n",
    "    \n",
    "    # prep_data\n",
    "    merge_data = prep_data(reco_group_df, prod_df, cw_df)\n",
    "    \n",
    "    return merge_data"
   ]
  },
  {
   "cell_type": "code",
   "execution_count": 7,
   "metadata": {},
   "outputs": [
    {
     "name": "stdout",
     "output_type": "stream",
     "text": [
      "merge_data:  (186, 30)\n"
     ]
    },
    {
     "data": {
      "text/plain": [
       "Index(['sa_id', 'p_id', 'brad_date', 'ch_svc_id', 'ch_no', 'ch_nm', 'prod_id',\n",
       "       'cw_id', 'bom_st_dt', 'bom_fns_dt', 'bom_prod_nm', '대분류', '중분류', '소분류',\n",
       "       '브랜드', '세분류', 'productImgUrl', 'mUrl', 'originPrice', 'price',\n",
       "       'cw_date', '선호그룹', '메타그룹', '카피라이팅', '평균', '매력성', '자연스러움', '적합성', '길이',\n",
       "       '종결어미'],\n",
       "      dtype='object')"
      ]
     },
     "execution_count": 7,
     "metadata": {},
     "output_type": "execute_result"
    }
   ],
   "source": [
    "# data test\n",
    "reco_group_df_path = 'ext_reco_group_df.dat'\n",
    "prod_df_path = 'ext_prod_df.dat'\n",
    "cw_df_path = 'ext_cw_df.dat'\n",
    "\n",
    "merge_data = run_data_func(reco_group_df_path, prod_df_path, cw_df_path)\n",
    "print('merge_data: ', merge_data.shape)\n",
    "merge_data.columns"
   ]
  },
  {
   "cell_type": "code",
   "execution_count": 5,
   "metadata": {},
   "outputs": [],
   "source": [
    "# 3자리마다 콤마 넣기\n",
    "merge_data['price'] = [format(x, ',') for x in merge_data['price']]\n",
    "\n",
    "# 채널 번호 000으로 바꾸기 (7번 -> 007번)\n",
    "merge_data['ch_no'] = [format(x, '03') for x in merge_data['ch_no']]\n",
    "merge_data['ch_no'] = merge_data['ch_no'].astype(str)"
   ]
  },
  {
   "cell_type": "code",
   "execution_count": 6,
   "metadata": {},
   "outputs": [],
   "source": [
    "# s급 채널 위로?\n"
   ]
  },
  {
   "cell_type": "code",
   "execution_count": 6,
   "metadata": {},
   "outputs": [],
   "source": [
    "# merge_data['disc_rate'] = np.round((merge_data['originPrice'] - merge_data['price']) / merge_data['originPrice'] * 100, 0)\n",
    "# merge_data.head()"
   ]
  },
  {
   "cell_type": "code",
   "execution_count": 12,
   "metadata": {},
   "outputs": [
    {
     "data": {
      "text/html": [
       "<div>\n",
       "<style scoped>\n",
       "    .dataframe tbody tr th:only-of-type {\n",
       "        vertical-align: middle;\n",
       "    }\n",
       "\n",
       "    .dataframe tbody tr th {\n",
       "        vertical-align: top;\n",
       "    }\n",
       "\n",
       "    .dataframe thead th {\n",
       "        text-align: right;\n",
       "    }\n",
       "</style>\n",
       "<table border=\"1\" class=\"dataframe\">\n",
       "  <thead>\n",
       "    <tr style=\"text-align: right;\">\n",
       "      <th></th>\n",
       "      <th>sa_id</th>\n",
       "      <th>p_id</th>\n",
       "      <th>brad_date</th>\n",
       "      <th>ch_svc_id</th>\n",
       "      <th>ch_no</th>\n",
       "      <th>ch_nm</th>\n",
       "      <th>prod_id</th>\n",
       "      <th>cw_id</th>\n",
       "      <th>bom_st_dt</th>\n",
       "      <th>bom_fns_dt</th>\n",
       "      <th>bom_prod_nm</th>\n",
       "      <th>대분류</th>\n",
       "      <th>중분류</th>\n",
       "      <th>소분류</th>\n",
       "      <th>브랜드</th>\n",
       "      <th>세분류</th>\n",
       "      <th>productImgUrl</th>\n",
       "      <th>mUrl</th>\n",
       "      <th>originPrice</th>\n",
       "      <th>price</th>\n",
       "      <th>cw_date</th>\n",
       "      <th>선호그룹</th>\n",
       "      <th>메타그룹</th>\n",
       "      <th>카피라이팅</th>\n",
       "      <th>평균</th>\n",
       "      <th>매력성</th>\n",
       "      <th>자연스러움</th>\n",
       "      <th>적합성</th>\n",
       "      <th>길이</th>\n",
       "      <th>종결어미</th>\n",
       "    </tr>\n",
       "  </thead>\n",
       "  <tbody>\n",
       "    <tr>\n",
       "      <th>0</th>\n",
       "      <td>0</td>\n",
       "      <td>0</td>\n",
       "      <td>2024-02-04</td>\n",
       "      <td>395</td>\n",
       "      <td>12</td>\n",
       "      <td>KT알파 쇼핑</td>\n",
       "      <td>3951707042540</td>\n",
       "      <td>4016000</td>\n",
       "      <td>2024-02-04 10:29:00</td>\n",
       "      <td>2024-02-04 11:28:58</td>\n",
       "      <td>특사이즈 총 24인분! [해화당] 이영자의 뼈없는 갈비탕 900g x 8팩, 총 7...</td>\n",
       "      <td>식품/건강</td>\n",
       "      <td>축산물</td>\n",
       "      <td>축산가공식품</td>\n",
       "      <td>해화당</td>\n",
       "      <td>뼈없는 갈비탕</td>\n",
       "      <td>http://imgs.kshop.co.kr//d2/product/emc/202312...</td>\n",
       "      <td>http://m.kshop.co.kr/display/mc/product/263484...</td>\n",
       "      <td>63900</td>\n",
       "      <td>54320</td>\n",
       "      <td>2024-02-01</td>\n",
       "      <td>삼시세끼</td>\n",
       "      <td>식품</td>\n",
       "      <td>간편하게 요리, 겨울밤을 닮은 삼시세끼</td>\n",
       "      <td>8.75</td>\n",
       "      <td>9</td>\n",
       "      <td>8</td>\n",
       "      <td>8</td>\n",
       "      <td>10</td>\n",
       "      <td>P</td>\n",
       "    </tr>\n",
       "  </tbody>\n",
       "</table>\n",
       "</div>"
      ],
      "text/plain": [
       "   sa_id  p_id   brad_date  ch_svc_id  ch_no    ch_nm        prod_id    cw_id  \\\n",
       "0      0     0  2024-02-04        395     12  KT알파 쇼핑  3951707042540  4016000   \n",
       "\n",
       "             bom_st_dt           bom_fns_dt  \\\n",
       "0  2024-02-04 10:29:00  2024-02-04 11:28:58   \n",
       "\n",
       "                                         bom_prod_nm    대분류  중분류     소분류  브랜드  \\\n",
       "0  특사이즈 총 24인분! [해화당] 이영자의 뼈없는 갈비탕 900g x 8팩, 총 7...  식품/건강  축산물  축산가공식품  해화당   \n",
       "\n",
       "       세분류                                      productImgUrl  \\\n",
       "0  뼈없는 갈비탕  http://imgs.kshop.co.kr//d2/product/emc/202312...   \n",
       "\n",
       "                                                mUrl  originPrice  price  \\\n",
       "0  http://m.kshop.co.kr/display/mc/product/263484...        63900  54320   \n",
       "\n",
       "      cw_date  선호그룹 메타그룹                  카피라이팅    평균  매력성  자연스러움  적합성  길이  \\\n",
       "0  2024-02-01  삼시세끼   식품  간편하게 요리, 겨울밤을 닮은 삼시세끼  8.75    9      8    8  10   \n",
       "\n",
       "  종결어미  \n",
       "0    P  "
      ]
     },
     "execution_count": 12,
     "metadata": {},
     "output_type": "execute_result"
    }
   ],
   "source": [
    "# 데이터 수정\n",
    "\n",
    "# # 3자리마다 콤마 넣기\n",
    "# merge_data['price'] = [format(x, ',') for x in merge_data['price']]\n",
    "\n",
    "# # 채널 번호 000으로 바꾸기 (7번 -> 007번)\n",
    "# merge_data['ch_no'] = [format(x, '03') for x in merge_data['ch_no']]\n",
    "# merge_data['ch_no'] = merge_data['ch_no'].astype(str)\n",
    "\n",
    "# 할인율 만들기\n",
    "merge_data.head(1)"
   ]
  },
  {
   "cell_type": "code",
   "execution_count": 61,
   "metadata": {},
   "outputs": [],
   "source": [
    "# merge_data.to_csv(data_path + 'merge_df.dat', index=False, )"
   ]
  },
  {
   "cell_type": "code",
   "execution_count": 62,
   "metadata": {},
   "outputs": [
    {
     "name": "stdout",
     "output_type": "stream",
     "text": [
      "<class 'pandas.core.frame.DataFrame'>\n",
      "RangeIndex: 186 entries, 0 to 185\n",
      "Data columns (total 30 columns):\n",
      " #   Column         Non-Null Count  Dtype  \n",
      "---  ------         --------------  -----  \n",
      " 0   sa_id          186 non-null    int64  \n",
      " 1   p_id           186 non-null    int64  \n",
      " 2   brad_date      186 non-null    object \n",
      " 3   ch_svc_id      186 non-null    int64  \n",
      " 4   ch_no          186 non-null    object \n",
      " 5   ch_nm          186 non-null    object \n",
      " 6   prod_id        186 non-null    int64  \n",
      " 7   cw_id          186 non-null    int64  \n",
      " 8   bom_st_dt      186 non-null    object \n",
      " 9   bom_fns_dt     186 non-null    object \n",
      " 10  bom_prod_nm    186 non-null    object \n",
      " 11  대분류            186 non-null    object \n",
      " 12  중분류            186 non-null    object \n",
      " 13  소분류            186 non-null    object \n",
      " 14  브랜드            186 non-null    object \n",
      " 15  세분류            186 non-null    object \n",
      " 16  productImgUrl  186 non-null    object \n",
      " 17  mUrl           186 non-null    object \n",
      " 18  originPrice    186 non-null    int64  \n",
      " 19  price          186 non-null    object \n",
      " 20  cw_date        186 non-null    object \n",
      " 21  선호그룹           186 non-null    object \n",
      " 22  메타그룹           186 non-null    object \n",
      " 23  카피라이팅          186 non-null    object \n",
      " 24  평균             186 non-null    float64\n",
      " 25  매력성            186 non-null    int64  \n",
      " 26  자연스러움          186 non-null    int64  \n",
      " 27  적합성            186 non-null    int64  \n",
      " 28  길이             186 non-null    int64  \n",
      " 29  종결어미           186 non-null    object \n",
      "dtypes: float64(1), int64(10), object(19)\n",
      "memory usage: 43.7+ KB\n"
     ]
    }
   ],
   "source": [
    "merge_data.info()"
   ]
  },
  {
   "cell_type": "code",
   "execution_count": 1,
   "metadata": {},
   "outputs": [
    {
     "ename": "NameError",
     "evalue": "name 'merge_data' is not defined",
     "output_type": "error",
     "traceback": [
      "\u001b[1;31m---------------------------------------------------------------------------\u001b[0m",
      "\u001b[1;31mNameError\u001b[0m                                 Traceback (most recent call last)",
      "Cell \u001b[1;32mIn[1], line 1\u001b[0m\n\u001b[1;32m----> 1\u001b[0m user1 \u001b[38;5;241m=\u001b[39m \u001b[43mmerge_data\u001b[49m[\u001b[38;5;124m'\u001b[39m\u001b[38;5;124mp_id\u001b[39m\u001b[38;5;124m'\u001b[39m]\u001b[38;5;241m.\u001b[39munique()[\u001b[38;5;241m1\u001b[39m]\n\u001b[0;32m      2\u001b[0m user_df \u001b[38;5;241m=\u001b[39m merge_data[merge_data[\u001b[38;5;124m'\u001b[39m\u001b[38;5;124mp_id\u001b[39m\u001b[38;5;124m'\u001b[39m] \u001b[38;5;241m==\u001b[39m user1]\n\u001b[0;32m      3\u001b[0m mod_columns \u001b[38;5;241m=\u001b[39m [\u001b[38;5;124m'\u001b[39m\u001b[38;5;124msa_id\u001b[39m\u001b[38;5;124m'\u001b[39m, \u001b[38;5;124m'\u001b[39m\u001b[38;5;124mp_id\u001b[39m\u001b[38;5;124m'\u001b[39m, \u001b[38;5;124m'\u001b[39m\u001b[38;5;124mbrad_date\u001b[39m\u001b[38;5;124m'\u001b[39m, \u001b[38;5;124m'\u001b[39m\u001b[38;5;124mch_svc_id\u001b[39m\u001b[38;5;124m'\u001b[39m, \u001b[38;5;124m'\u001b[39m\u001b[38;5;124mch_no\u001b[39m\u001b[38;5;124m'\u001b[39m, \u001b[38;5;124m'\u001b[39m\u001b[38;5;124mch_nm\u001b[39m\u001b[38;5;124m'\u001b[39m, \u001b[38;5;124m'\u001b[39m\u001b[38;5;124mbom_st_dt\u001b[39m\u001b[38;5;124m'\u001b[39m, \u001b[38;5;124m'\u001b[39m\u001b[38;5;124mbom_fns_dt\u001b[39m\u001b[38;5;124m'\u001b[39m, \u001b[38;5;124m'\u001b[39m\u001b[38;5;124mbom_prod_nm\u001b[39m\u001b[38;5;124m'\u001b[39m,\n\u001b[0;32m      4\u001b[0m                \u001b[38;5;124m'\u001b[39m\u001b[38;5;124mprod_id\u001b[39m\u001b[38;5;124m'\u001b[39m, \u001b[38;5;124m'\u001b[39m\u001b[38;5;124mprice\u001b[39m\u001b[38;5;124m'\u001b[39m, \u001b[38;5;124m'\u001b[39m\u001b[38;5;124moriginPrice\u001b[39m\u001b[38;5;124m'\u001b[39m, \u001b[38;5;124m'\u001b[39m\u001b[38;5;124mproductImgUrl\u001b[39m\u001b[38;5;124m'\u001b[39m, \u001b[38;5;124m'\u001b[39m\u001b[38;5;124mmUrl\u001b[39m\u001b[38;5;124m'\u001b[39m]\n",
      "\u001b[1;31mNameError\u001b[0m: name 'merge_data' is not defined"
     ]
    }
   ],
   "source": [
    "user1 = merge_data['p_id'].unique()[1]\n",
    "user_df = merge_data[merge_data['p_id'] == user1]\n",
    "mod_columns = ['sa_id', 'p_id', 'brad_date', 'ch_svc_id', 'ch_no', 'ch_nm', 'bom_st_dt', 'bom_fns_dt', 'bom_prod_nm',\n",
    "               'prod_id', 'price', 'originPrice', 'productImgUrl', 'mUrl']\n",
    "user_df[mod_columns].to_dict('records')[0]"
   ]
  },
  {
   "cell_type": "code",
   "execution_count": null,
   "metadata": {},
   "outputs": [],
   "source": []
  },
  {
   "cell_type": "code",
   "execution_count": null,
   "metadata": {},
   "outputs": [],
   "source": []
  }
 ],
 "metadata": {
  "kernelspec": {
   "display_name": "Python 3",
   "language": "python",
   "name": "python3"
  },
  "language_info": {
   "codemirror_mode": {
    "name": "ipython",
    "version": 3
   },
   "file_extension": ".py",
   "mimetype": "text/x-python",
   "name": "python",
   "nbconvert_exporter": "python",
   "pygments_lexer": "ipython3",
   "version": "3.12.4"
  }
 },
 "nbformat": 4,
 "nbformat_minor": 2
}
