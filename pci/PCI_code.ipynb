{
 "cells": [
  {
   "cell_type": "markdown",
   "id": "d5fede07-5887-46b7-801b-51a8512772f6",
   "metadata": {},
   "source": [
    "# PCI-3024\n",
    "- 목적: SAID에 체크인된 단말 정보 조회"
   ]
  },
  {
   "cell_type": "code",
   "execution_count": 6,
   "id": "7bdfba3e-554b-4734-9064-a31885000b3a",
   "metadata": {
    "tags": []
   },
   "outputs": [
    {
     "name": "stdout",
     "output_type": "stream",
     "text": [
      "{'data': {'pidlist': []}, 'res_code': 200, 'res_msg': 'SUCCESS'}\n"
     ]
    }
   ],
   "source": [
    "import requests\n",
    "\n",
    "url_pci3024 = 'https://pcimobile.ktipmedia.co.kr/V100/PCI_3024/checkin_list'\n",
    "\n",
    "# POST 요청에 사용할 헤더 설정\n",
    "headers = {\n",
    "    'Content-Type': 'application/json',\n",
    "    'User-Agent': 'PCISDK(AuthKey/8588B0EBC85A6675BEF774DCCDB3A99A6AEACCB113BF351B81B25F039D123F65;OSType/ANDROID;DeviceType/PHONE;OsVersion/13;SdkVersion/5.3.4;Adid/5cf3ccd4-16e5-4976-b7d9-5717d5d0bbd7;PackageName/com.ktshow.cs;BuildType/RELEASE)'\n",
    "}\n",
    "\n",
    "# POST 요청에 전달할 데이터 (JSON 형식)\n",
    "data = {\n",
    "    \"said\": \"TT240117053\"\n",
    "    \n",
    "}\n",
    "# \"said\": \"61016863799\"\n",
    "\n",
    "# POST 요청 보내기\n",
    "response = requests.post(url_pci3024, json=data, headers=headers)\n",
    "\n",
    "# 응답 결과 확인\n",
    "if response.status_code == 200:\n",
    "    # 성공적으로 요청이 처리됨\n",
    "    result = response.json()\n",
    "    print(result)\n",
    "else:\n",
    "    # 요청이 실패됨\n",
    "    print('POST 요청 실패:', response.status_code)"
   ]
  },
  {
   "cell_type": "markdown",
   "id": "ff582aa9-de20-46eb-909e-eba4a8161d81",
   "metadata": {},
   "source": [
    "# PCI-3025\n",
    "- 목적: 단말이 체크인 된 SAID 목록 정보 조회"
   ]
  },
  {
   "cell_type": "code",
   "execution_count": 5,
   "id": "9809c564-4979-40b1-9d90-69f73e0688d3",
   "metadata": {},
   "outputs": [
    {
     "name": "stdout",
     "output_type": "stream",
     "text": [
      "{'data': {'pairList': [], 'stbList': []}, 'res_code': 200, 'res_msg': 'SUCCESS'}\n"
     ]
    }
   ],
   "source": [
    "import requests\n",
    "\n",
    "url_pci3025 = 'https://pcimobile.ktipmedia.co.kr/V100/PCI_3025/checkin_stblist'\n",
    "\n",
    "# POST 요청에 사용할 헤더 설정\n",
    "headers = {\n",
    "    'Content-Type': 'application/json',\n",
    "    'User-Agent': 'PCISDK(AuthKey/8588B0EBC85A6675BEF774DCCDB3A99A6AEACCB113BF351B81B25F039D123F65;OSType/ANDROID;DeviceType/PHONE;OsVersion/13;SdkVersion/5.3.4;Adid/5cf3ccd4-16e5-4976-b7d9-5717d5d0bbd7;PackageName/com.ktshow.cs;BuildType/RELEASE)'\n",
    "}\n",
    "\n",
    "# POST 요청에 전달할 데이터 (JSON 형식)\n",
    "data = {\n",
    "\t\"maid\": \"30a9a6dd-d401-400b-9ca5-6e443019e168\",\n",
    "\t\"gaid\": \"\"\n",
    "}\n",
    "\n",
    "# POST 요청 보내기\n",
    "response = requests.post(url_pci3025, json=data, headers=headers)\n",
    "\n",
    "# 응답 결과 확인\n",
    "if response.status_code == 200:\n",
    "    # 성공적으로 요청이 처리됨\n",
    "    result = response.json()\n",
    "    print(result)\n",
    "else:\n",
    "    # 요청이 실패됨\n",
    "    print('POST 요청 실패:', response.status_code)"
   ]
  },
  {
   "cell_type": "markdown",
   "id": "e5b48c0d-4614-4b51-8e39-b1ac2739ad8b",
   "metadata": {},
   "source": [
    "# PCI-3026\n",
    "- 목적: SAID에 체크인시킬 단말정보/체크인시간 요청"
   ]
  },
  {
   "cell_type": "code",
   "execution_count": 2,
   "id": "49d8dde3-ce7a-4c8c-825a-97e22cbcdba7",
   "metadata": {
    "tags": []
   },
   "outputs": [
    {
     "name": "stdout",
     "output_type": "stream",
     "text": [
      "{'data': {'p_id': 'p2076156926'}, 'res_code': 200, 'res_msg': 'SUCCESS'}\n"
     ]
    }
   ],
   "source": [
    "import requests\n",
    "\n",
    "url_pci3026 = 'https://pcimobile.ktipmedia.co.kr/V100/PCI_3026/dmr_check_in'\n",
    "\n",
    "# POST 요청에 사용할 헤더 설정\n",
    "headers = {\n",
    "    'Content-Type': 'application/json',\n",
    "    'User-Agent': 'PCISDK(AuthKey/8588B0EBC85A6675BEF774DCCDB3A99A6AEACCB113BF351B81B25F039D123F65;OSType/ANDROID;DeviceType/PHONE;OsVersion/13;SdkVersion/5.3.4;Adid/5cf3ccd4-16e5-4976-b7d9-5717d5d0bbd7;PackageName/com.ktshow.cs;BuildType/RELEASE)'\n",
    "}\n",
    "\n",
    "# POST 요청에 전달할 데이터 (JSON 형식)\n",
    "data = {\n",
    "\t\"said\": \"TT240117053\",\n",
    "    \"maid\": \"30a9a6dd-d401-400b-9ca5-6e443019e168\",\n",
    "    \"reg_date\": \"20240614150000\",\n",
    "    \"partner_code\":\"1104\"\n",
    "}\n",
    "\n",
    "# POST 요청 보내기\n",
    "response = requests.post(url_pci3026, json=data, headers=headers)\n",
    "\n",
    "# 응답 결과 확인\n",
    "if response.status_code == 200:\n",
    "    # 성공적으로 요청이 처리됨\n",
    "    result = response.json()\n",
    "    print(result)\n",
    "else:\n",
    "    # 요청이 실패됨\n",
    "    print('POST 요청 실패:', response.status_code)"
   ]
  }
 ],
 "metadata": {
  "kernelspec": {
   "display_name": "llm",
   "language": "python",
   "name": "llm"
  },
  "language_info": {
   "codemirror_mode": {
    "name": "ipython",
    "version": 3
   },
   "file_extension": ".py",
   "mimetype": "text/x-python",
   "name": "python",
   "nbconvert_exporter": "python",
   "pygments_lexer": "ipython3",
   "version": "3.10.13"
  }
 },
 "nbformat": 4,
 "nbformat_minor": 5
}
